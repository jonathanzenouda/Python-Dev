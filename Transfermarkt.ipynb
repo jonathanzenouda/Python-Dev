{
 "cells": [
  {
   "cell_type": "markdown",
   "metadata": {},
   "source": [
    "# ANALYSE DE TRANSFERMARKT"
   ]
  },
  {
   "cell_type": "markdown",
   "metadata": {},
   "source": [
    "<b> Analyse des données transfermarkt issues de https://www.kaggle.com/davidcariboo/player-scores?select=competitions.csv </b>"
   ]
  },
  {
   "cell_type": "code",
   "execution_count": 1,
   "metadata": {},
   "outputs": [],
   "source": [
    "import os\n",
    "import zipfile\n",
    "import swat \n",
    "import pandas as pd\n",
    "from getpass import getpass\n",
    "pd.set_option('display.max_colwidth',100000)\n",
    "instance='viyawaves.sas.com'\n",
    "cas_host ='https://'+instance+'/cas-shared-default-http/'\n",
    "cas_port= 80"
   ]
  },
  {
   "cell_type": "markdown",
   "metadata": {},
   "source": [
    "### CONNECTION TO CAS"
   ]
  },
  {
   "cell_type": "code",
   "execution_count": 2,
   "metadata": {},
   "outputs": [
    {
     "name": "stdin",
     "output_type": "stream",
     "text": [
      "Nom d'utilisateur: frajoz\n",
      "Mot de passe: ············\n"
     ]
    },
    {
     "name": "stdout",
     "output_type": "stream",
     "text": [
      "NOTE: 'CASUSER(frajoz)' is now the active caslib.\n"
     ]
    },
    {
     "data": {
      "text/html": [
       "<div class=\"cas-output-area\"></div>\n",
       "<p class=\"cas-results-performance\"><small><span class=\"cas-elapsed\">elapsed 0.000535s</span> &#183; <span class=\"cas-user\">user 0.000336s</span> &#183; <span class=\"cas-sys\">sys 0.000163s</span> &#183; <span class=\"cas-memory\">mem 0.274MB</span></small></p>"
      ],
      "text/plain": [
       "+ Elapsed: 0.000535s, user: 0.000336s, sys: 0.000163s, mem: 0.274mb"
      ]
     },
     "execution_count": 2,
     "metadata": {},
     "output_type": "execute_result"
    }
   ],
   "source": [
    "user=input(\"Nom d'utilisateur:\")\n",
    "mdp=getpass(\"Mot de passe:\")\n",
    "s = swat.CAS(cas_host, cas_port, user, mdp)\n",
    "s.sessionprop.setsessopt(caslib='CASUSER',timeout=31536000)"
   ]
  },
  {
   "cell_type": "code",
   "execution_count": 11,
   "metadata": {},
   "outputs": [
    {
     "data": {
      "text/html": [
       "<div class=\"cas-output-area\"></div>\n",
       "<p class=\"cas-results-performance\"><small><span class=\"cas-elapsed\">elapsed 0.167s</span> &#183; <span class=\"cas-user\">user 0.000416s</span> &#183; <span class=\"cas-sys\">sys 0.000129s</span> &#183; <span class=\"cas-memory\">mem 0.296MB</span></small></p>"
      ],
      "text/plain": [
       "+ Elapsed: 0.167s, user: 0.000416s, sys: 0.000129s, mem: 0.296mb"
      ]
     },
     "execution_count": 11,
     "metadata": {},
     "output_type": "execute_result"
    }
   ],
   "source": [
    "s.table.dropTable(name=\"TRANSFERMARKT_DATA\",caslib=\"Public\",quiet=True)\n",
    "s.table.dropTable(name=\"JOIN_GAME_PLAYER\",caslib=\"CASUSER\",quiet=True)"
   ]
  },
  {
   "cell_type": "code",
   "execution_count": 4,
   "metadata": {},
   "outputs": [],
   "source": [
    "path_to_zip_file=os.fspath('C:\\\\Users\\\\frajoz\\OneDrive - SAS\\Domain\\Sport Analytics\\TRANSFERMARKT\\ARCHIVE\\\\archive (21).zip')\n",
    "directory_to_extract_to=os.fspath('C:\\\\Users\\\\frajoz\\OneDrive - SAS\\Domain\\Sport Analytics\\TRANSFERMARKT\\DONNEES\\\\')"
   ]
  },
  {
   "cell_type": "raw",
   "metadata": {},
   "source": [
    "\n",
    "with zipfile.ZipFile(path_to_zip_file, 'r') as zip_ref:\n",
    "    zip_ref.extractall(directory_to_extract_to)"
   ]
  },
  {
   "cell_type": "code",
   "execution_count": 5,
   "metadata": {},
   "outputs": [
    {
     "name": "stdout",
     "output_type": "stream",
     "text": [
      "NOTE: Cloud Analytic Services made the uploaded file available as table APPEARANCES in caslib CASUSER(frajoz).\n",
      "NOTE: The table APPEARANCES has been created in caslib CASUSER(frajoz) from binary data uploaded to Cloud Analytic Services.\n",
      "appearances\n",
      "[Fetch]\n",
      "\n",
      " Selected Rows from Table APPEARANCES\n",
      " \n",
      "    player_id    game_id  appearance_id competition_id  player_club_id  goals  \\\n",
      " 0    71420.0  2609372.0  2609372_71420            PO1          1301.0    0.0   \n",
      " 1    71420.0  2609389.0  2609389_71420            PO1          1301.0    0.0   \n",
      " \n",
      "    assists  minutes_played  yellow_cards  red_cards  \n",
      " 0      0.0            70.0           1.0        0.0  \n",
      " 1      0.0            90.0           0.0        0.0  \n",
      "\n",
      "+ Elapsed: 0.00208s, user: 0.00101s, sys: 0.00102s, mem: 0.982mb\n",
      "NOTE: Cloud Analytic Services made the uploaded file available as table CLUBS in caslib CASUSER(frajoz).\n",
      "NOTE: The table CLUBS has been created in caslib CASUSER(frajoz) from binary data uploaded to Cloud Analytic Services.\n",
      "clubs\n",
      "[Fetch]\n",
      "\n",
      " Selected Rows from Table CLUBS\n",
      " \n",
      "    club_id          name   pretty_name domestic_competition_id  \\\n",
      " 0   1429.0     cesena-fc     Cesena Fc                     IT1   \n",
      " 1   5220.0  gs-ergotelis  Gs Ergotelis                     GR1   \n",
      " \n",
      "    total_market_value  squad_size  average_age  foreigners_number  \\\n",
      " 0                5.09        30.0         24.0                3.0   \n",
      " 1                3.62        30.0         22.7               11.0   \n",
      " \n",
      "    foreigners_percentage  national_team_players  \\\n",
      " 0                   10.0                    1.0   \n",
      " 1                   36.7                    1.0   \n",
      " \n",
      "                     stadium_name  stadium_seats net_transfer_record  \\\n",
      " 0  Orogel Stadium \"Dino Manuzzi\"        23860.0           +Â£180Th.   \n",
      " 1               Pankritio Stadio        25780.0                 +-0   \n",
      " \n",
      "          coach_name  \\\n",
      " 0  Pierpaolo Bisoli   \n",
      " 1     Juan Ferrando   \n",
      " \n",
      "                                                                    url  \n",
      " 0     https://www.transfermarkt.co.uk/cesena-fc/startseite/verein/1429  \n",
      " 1  https://www.transfermarkt.co.uk/gs-ergotelis/startseite/verein/5220  \n",
      "\n",
      "+ Elapsed: 0.00191s, user: 0.00172s, sys: 0.000144s, mem: 0.982mb\n",
      "NOTE: Cloud Analytic Services made the uploaded file available as table COMPETITIONS in caslib CASUSER(frajoz).\n",
      "NOTE: The table COMPETITIONS has been created in caslib CASUSER(frajoz) from binary data uploaded to Cloud Analytic Services.\n",
      "competitions\n",
      "[Fetch]\n",
      "\n",
      " Selected Rows from Table COMPETITIONS\n",
      " \n",
      "   competition_id        name        type  country_id country_name  \\\n",
      " 0             L1  bundesliga  first_tier        40.0      Germany   \n",
      " 1            TR1   super-lig  first_tier       174.0       Turkey   \n",
      " \n",
      "   domestic_league_code confederation  \\\n",
      " 0                   L1        europa   \n",
      " 1                  TR1        europa   \n",
      " \n",
      "                                                                    url  \n",
      " 0  https://www.transfermarkt.co.uk/bundesliga/startseite/wettbewerb/L1  \n",
      " 1  https://www.transfermarkt.co.uk/super-lig/startseite/wettbewerb/TR1  \n",
      "\n",
      "+ Elapsed: 0.00171s, user: 0.00155s, sys: 0.000113s, mem: 0.992mb\n",
      "NOTE: Cloud Analytic Services made the uploaded file available as table GAMES in caslib CASUSER(frajoz).\n",
      "NOTE: The table GAMES has been created in caslib CASUSER(frajoz) from binary data uploaded to Cloud Analytic Services.\n",
      "games\n",
      "[Fetch]\n",
      "\n",
      " Selected Rows from Table GAMES\n",
      " \n",
      "      game_id competition_code  season  round        date  home_club_id  \\\n",
      " 0  2457642.0             NLSC  2014.0  Final  2014-08-03        1269.0   \n",
      " 1  2639088.0             BESC  2013.0  Final  2014-07-20          58.0   \n",
      " \n",
      "    away_club_id  home_club_goals  away_club_goals  home_club_position  \\\n",
      " 0         610.0              1.0              0.0                 NaN   \n",
      " 1         498.0              2.0              1.0                 NaN   \n",
      " \n",
      "    away_club_position                        stadium  attendance  \\\n",
      " 0                 NaN            Johan Cruijff ArenA     42000.0   \n",
      " 1                 NaN  Constant Vanden Stock Stadion     13733.0   \n",
      " \n",
      "            referee  \\\n",
      " 0   Danny Makkelie   \n",
      " 1  Jonathan Lardot   \n",
      " \n",
      "                                                                        url  \n",
      " 0  https://www.transfermarkt.co.uk/spielbericht/index/spielbericht/2457642  \n",
      " 1  https://www.transfermarkt.co.uk/spielbericht/index/spielbericht/2639088  \n",
      "\n",
      "+ Elapsed: 0.00177s, user: 0.000761s, sys: 0.000967s, mem: 0.986mb\n",
      "NOTE: Cloud Analytic Services made the uploaded file available as table PLAYERS in caslib CASUSER(frajoz).\n",
      "NOTE: The table PLAYERS has been created in caslib CASUSER(frajoz) from binary data uploaded to Cloud Analytic Services.\n",
      "players\n",
      "[Fetch]\n",
      "\n",
      " Selected Rows from Table PLAYERS\n",
      " \n",
      "    player_id  current_club_id                name         pretty_name  \\\n",
      " 0    38790.0          28095.0      dmitri-golubov      Dmitri Golubov   \n",
      " 1   106539.0          28095.0  aleksandr-vasiljev  Aleksandr Vasiljev   \n",
      " \n",
      "   country_of_birth country_of_citizenship date_of_birth position  \\\n",
      " 0            UdSSR                 Russia    1985-06-24   Attack   \n",
      " 1           Russia                 Russia    1992-01-23   Attack   \n",
      " \n",
      "      sub_position   foot  height_in_cm  market_value_in_gbp  \\\n",
      " 0  Centre-Forward   Both         178.0                  NaN   \n",
      " 1    Right Winger  Right         182.0                  NaN   \n",
      " \n",
      "    highest_market_value_in_gbp  \\\n",
      " 0                     675000.0   \n",
      " 1                     225000.0   \n",
      " \n",
      "                                                                         url  \n",
      " 0       https://www.transfermarkt.co.uk/dmitri-golubov/profil/spieler/38790  \n",
      " 1  https://www.transfermarkt.co.uk/aleksandr-vasiljev/profil/spieler/106539  \n",
      "\n",
      "+ Elapsed: 0.0019s, user: 0.000871s, sys: 0.000986s, mem: 0.987mb\n"
     ]
    }
   ],
   "source": [
    "for file in os.listdir(directory_to_extract_to):\n",
    "    sasname=file.replace('.csv','')\n",
    "    s.read_csv(directory_to_extract_to+file,casout={'name':sasname,'replace':True})\n",
    "    print(sasname)\n",
    "    print(s.table.fetch(sasname,to=2))"
   ]
  },
  {
   "cell_type": "code",
   "execution_count": 6,
   "metadata": {},
   "outputs": [
    {
     "data": {
      "text/html": [
       "<div class=\"cas-results-key\"><b>&#167; InputCasTables</b></div>\n",
       "<div class=\"cas-results-body\">\n",
       "<div>\n",
       "<style scoped>\n",
       "    .dataframe tbody tr th:only-of-type {\n",
       "        vertical-align: middle;\n",
       "    }\n",
       "\n",
       "    .dataframe tbody tr th {\n",
       "        vertical-align: top;\n",
       "    }\n",
       "\n",
       "    .dataframe thead th {\n",
       "        text-align: right;\n",
       "    }\n",
       "</style>\n",
       "<table border=\"1\" class=\"dataframe\">\n",
       "  <thead>\n",
       "    <tr style=\"text-align: right;\">\n",
       "      <th title=\"\"></th>\n",
       "      <th title=\"CAS Library\">casLib</th>\n",
       "      <th title=\"Name\">Name</th>\n",
       "      <th title=\"Number of Rows\">Rows</th>\n",
       "      <th title=\"Number of Columns\">Columns</th>\n",
       "      <th title=\"Table\">casTable</th>\n",
       "    </tr>\n",
       "  </thead>\n",
       "  <tbody>\n",
       "    <tr>\n",
       "      <th>0</th>\n",
       "      <td>CASUSER(frajoz)</td>\n",
       "      <td>APPEARANCES</td>\n",
       "      <td>980509</td>\n",
       "      <td>10</td>\n",
       "      <td>CASTable('APPEARANCES', caslib='CASUSER(frajoz)')</td>\n",
       "    </tr>\n",
       "    <tr>\n",
       "      <th>1</th>\n",
       "      <td>CASUSER(frajoz)</td>\n",
       "      <td>PLAYERS</td>\n",
       "      <td>22431</td>\n",
       "      <td>14</td>\n",
       "      <td>CASTable('PLAYERS', caslib='CASUSER(frajoz)')</td>\n",
       "    </tr>\n",
       "  </tbody>\n",
       "</table>\n",
       "</div>\n",
       "</div>\n",
       "<div class=\"cas-results-key\"><hr/><b>&#167; OutputCasTables</b></div>\n",
       "<div class=\"cas-results-body\">\n",
       "<div>\n",
       "<style scoped>\n",
       "    .dataframe tbody tr th:only-of-type {\n",
       "        vertical-align: middle;\n",
       "    }\n",
       "\n",
       "    .dataframe tbody tr th {\n",
       "        vertical-align: top;\n",
       "    }\n",
       "\n",
       "    .dataframe thead th {\n",
       "        text-align: right;\n",
       "    }\n",
       "</style>\n",
       "<table border=\"1\" class=\"dataframe\">\n",
       "  <thead>\n",
       "    <tr style=\"text-align: right;\">\n",
       "      <th title=\"\"></th>\n",
       "      <th title=\"CAS Library\">casLib</th>\n",
       "      <th title=\"Name\">Name</th>\n",
       "      <th title=\"Number of Rows\">Rows</th>\n",
       "      <th title=\"Number of Columns\">Columns</th>\n",
       "      <th title=\"Number of Rows Appended\">Append</th>\n",
       "      <th title=\"Promoted\">Promoted</th>\n",
       "      <th title=\"Table\">casTable</th>\n",
       "    </tr>\n",
       "  </thead>\n",
       "  <tbody>\n",
       "    <tr>\n",
       "      <th>0</th>\n",
       "      <td>CASUSER(frajoz)</td>\n",
       "      <td>JOIN_PLAYER_APP</td>\n",
       "      <td>980509</td>\n",
       "      <td>22</td>\n",
       "      <td>NaN</td>\n",
       "      <td>N</td>\n",
       "      <td>CASTable('JOIN_PLAYER_APP', caslib='CASUSER(frajoz)')</td>\n",
       "    </tr>\n",
       "  </tbody>\n",
       "</table>\n",
       "</div>\n",
       "</div>\n",
       "<div class=\"cas-output-area\"></div>\n",
       "<p class=\"cas-results-performance\"><small><span class=\"cas-elapsed\">elapsed 1.1s</span> &#183; <span class=\"cas-user\">user 3.65s</span> &#183; <span class=\"cas-sys\">sys 1.19s</span> &#183; <span class=\"cas-memory\">mem 143MB</span></small></p>"
      ],
      "text/plain": [
       "[InputCasTables]\n",
       "\n",
       "             casLib         Name    Rows  Columns  \\\n",
       " 0  CASUSER(frajoz)  APPEARANCES  980509       10   \n",
       " 1  CASUSER(frajoz)      PLAYERS   22431       14   \n",
       " \n",
       "                                             casTable  \n",
       " 0  CASTable('APPEARANCES', caslib='CASUSER(frajoz)')  \n",
       " 1      CASTable('PLAYERS', caslib='CASUSER(frajoz)')  \n",
       "\n",
       "[OutputCasTables]\n",
       "\n",
       "             casLib             Name    Rows  Columns  Append Promoted  \\\n",
       " 0  CASUSER(frajoz)  JOIN_PLAYER_APP  980509       22     NaN        N   \n",
       " \n",
       "                                                 casTable  \n",
       " 0  CASTable('JOIN_PLAYER_APP', caslib='CASUSER(frajoz)')  \n",
       "\n",
       "+ Elapsed: 1.1s, user: 3.65s, sys: 1.19s, mem: 143mb"
      ]
     },
     "execution_count": 6,
     "metadata": {},
     "output_type": "execute_result"
    }
   ],
   "source": [
    "s.datastep.runcode(\"data JOIN_PLAYER_APP;merge APPEARANCES(in=in1 rename=(player_club_id=current_club_id))  PLAYERS;by player_id current_club_id;if in1;run;\")"
   ]
  },
  {
   "cell_type": "code",
   "execution_count": 12,
   "metadata": {},
   "outputs": [
    {
     "name": "stdout",
     "output_type": "stream",
     "text": [
      "NOTE: MERGE statement has more than one data set with repeats of BY values.\n",
      "NOTE: Duplicate messages output by DATA step:\n",
      "NOTE: MERGE statement has more than one data set with repeats of BY values.  (occurred 4 times)\n"
     ]
    },
    {
     "data": {
      "text/html": [
       "<div class=\"cas-results-key\"><b>&#167; InputCasTables</b></div>\n",
       "<div class=\"cas-results-body\">\n",
       "<div>\n",
       "<style scoped>\n",
       "    .dataframe tbody tr th:only-of-type {\n",
       "        vertical-align: middle;\n",
       "    }\n",
       "\n",
       "    .dataframe tbody tr th {\n",
       "        vertical-align: top;\n",
       "    }\n",
       "\n",
       "    .dataframe thead th {\n",
       "        text-align: right;\n",
       "    }\n",
       "</style>\n",
       "<table border=\"1\" class=\"dataframe\">\n",
       "  <thead>\n",
       "    <tr style=\"text-align: right;\">\n",
       "      <th title=\"\"></th>\n",
       "      <th title=\"CAS Library\">casLib</th>\n",
       "      <th title=\"Name\">Name</th>\n",
       "      <th title=\"Number of Rows\">Rows</th>\n",
       "      <th title=\"Number of Columns\">Columns</th>\n",
       "      <th title=\"Table\">casTable</th>\n",
       "    </tr>\n",
       "  </thead>\n",
       "  <tbody>\n",
       "    <tr>\n",
       "      <th>0</th>\n",
       "      <td>CASUSER(frajoz)</td>\n",
       "      <td>JOIN_PLAYER_APP</td>\n",
       "      <td>980509</td>\n",
       "      <td>22</td>\n",
       "      <td>CASTable('JOIN_PLAYER_APP', caslib='CASUSER(frajoz)')</td>\n",
       "    </tr>\n",
       "    <tr>\n",
       "      <th>1</th>\n",
       "      <td>CASUSER(frajoz)</td>\n",
       "      <td>GAMES</td>\n",
       "      <td>42425</td>\n",
       "      <td>15</td>\n",
       "      <td>CASTable('GAMES', caslib='CASUSER(frajoz)')</td>\n",
       "    </tr>\n",
       "  </tbody>\n",
       "</table>\n",
       "</div>\n",
       "</div>\n",
       "<div class=\"cas-results-key\"><hr/><b>&#167; OutputCasTables</b></div>\n",
       "<div class=\"cas-results-body\">\n",
       "<div>\n",
       "<style scoped>\n",
       "    .dataframe tbody tr th:only-of-type {\n",
       "        vertical-align: middle;\n",
       "    }\n",
       "\n",
       "    .dataframe tbody tr th {\n",
       "        vertical-align: top;\n",
       "    }\n",
       "\n",
       "    .dataframe thead th {\n",
       "        text-align: right;\n",
       "    }\n",
       "</style>\n",
       "<table border=\"1\" class=\"dataframe\">\n",
       "  <thead>\n",
       "    <tr style=\"text-align: right;\">\n",
       "      <th title=\"\"></th>\n",
       "      <th title=\"CAS Library\">casLib</th>\n",
       "      <th title=\"Name\">Name</th>\n",
       "      <th title=\"Number of Rows\">Rows</th>\n",
       "      <th title=\"Number of Columns\">Columns</th>\n",
       "      <th title=\"Number of Rows Appended\">Append</th>\n",
       "      <th title=\"Promoted\">Promoted</th>\n",
       "      <th title=\"Table\">casTable</th>\n",
       "    </tr>\n",
       "  </thead>\n",
       "  <tbody>\n",
       "    <tr>\n",
       "      <th>0</th>\n",
       "      <td>CASUSER(frajoz)</td>\n",
       "      <td>JOIN_GAME_PLAYER</td>\n",
       "      <td>980510</td>\n",
       "      <td>35</td>\n",
       "      <td>NaN</td>\n",
       "      <td>N</td>\n",
       "      <td>CASTable('JOIN_GAME_PLAYER', caslib='CASUSER(frajoz)')</td>\n",
       "    </tr>\n",
       "  </tbody>\n",
       "</table>\n",
       "</div>\n",
       "</div>\n",
       "<div class=\"cas-output-area\"></div>\n",
       "<p class=\"cas-results-performance\"><small><span class=\"cas-elapsed\">elapsed 2.07s</span> &#183; <span class=\"cas-user\">user 7.51s</span> &#183; <span class=\"cas-sys\">sys 1.85s</span> &#183; <span class=\"cas-memory\">mem 113MB</span></small></p>"
      ],
      "text/plain": [
       "[InputCasTables]\n",
       "\n",
       "             casLib             Name    Rows  Columns  \\\n",
       " 0  CASUSER(frajoz)  JOIN_PLAYER_APP  980509       22   \n",
       " 1  CASUSER(frajoz)            GAMES   42425       15   \n",
       " \n",
       "                                                 casTable  \n",
       " 0  CASTable('JOIN_PLAYER_APP', caslib='CASUSER(frajoz)')  \n",
       " 1            CASTable('GAMES', caslib='CASUSER(frajoz)')  \n",
       "\n",
       "[OutputCasTables]\n",
       "\n",
       "             casLib              Name    Rows  Columns  Append Promoted  \\\n",
       " 0  CASUSER(frajoz)  JOIN_GAME_PLAYER  980510       35     NaN        N   \n",
       " \n",
       "                                                  casTable  \n",
       " 0  CASTable('JOIN_GAME_PLAYER', caslib='CASUSER(frajoz)')  \n",
       "\n",
       "+ Elapsed: 2.07s, user: 7.51s, sys: 1.85s, mem: 113mb"
      ]
     },
     "execution_count": 12,
     "metadata": {},
     "output_type": "execute_result"
    }
   ],
   "source": [
    "s.datastep.runcode(\"data JOIN_GAME_PLAYER;merge JOIN_PLAYER_APP(in=in1)  GAMES;by game_id;if in1;run;\")"
   ]
  },
  {
   "cell_type": "code",
   "execution_count": 13,
   "metadata": {},
   "outputs": [
    {
     "name": "stdout",
     "output_type": "stream",
     "text": [
      "NOTE: Cloud Analytic Services promoted table JOIN_GAME_PLAYER in caslib CASUSER(frajoz) to table JOIN_GAME_PLAYER in caslib CASUSER(frajoz).\n"
     ]
    },
    {
     "data": {
      "text/html": [
       "<div class=\"cas-output-area\"></div>\n",
       "<p class=\"cas-results-performance\"><small><span class=\"cas-elapsed\">elapsed 0.12s</span> &#183; <span class=\"cas-user\">user 0.0112s</span> &#183; <span class=\"cas-sys\">sys 0.108s</span> &#183; <span class=\"cas-memory\">mem 0.308MB</span></small></p>"
      ],
      "text/plain": [
       "+ Elapsed: 0.12s, user: 0.0112s, sys: 0.108s, mem: 0.308mb"
      ]
     },
     "execution_count": 13,
     "metadata": {},
     "output_type": "execute_result"
    }
   ],
   "source": [
    "s.table.promote(table='JOIN_GAME_PLAYER',caslib=\"CASUSER\",Targetlib=\"CASUSER\")"
   ]
  },
  {
   "cell_type": "code",
   "execution_count": 14,
   "metadata": {},
   "outputs": [],
   "source": [
    "a=s.table.columnInfo('CLUBS')\n",
    "df=a['ColumnInfo']\n",
    "\n",
    "for k in ['CURRENT','HOME','AWAY']:\n",
    "    s.datastep.runcode('data '+k+'_CLUB;set CLUBS;run;')\n",
    "    for i in range(0,len(df)):\n",
    "        var=df[(df.ID==i+1)]['Column'].iloc[0]\n",
    "        newvar=k+\"_\"+var\n",
    "        s.datastep.runcode(\"data \"+k+\"_CLUB;set \"+k+\"_CLUB;rename \"+var+\"=\"+newvar+\";run;\")"
   ]
  },
  {
   "cell_type": "code",
   "execution_count": 15,
   "metadata": {},
   "outputs": [
    {
     "data": {
      "text/html": [
       "<div class=\"cas-results-key\"><b>&#167; InputCasTables</b></div>\n",
       "<div class=\"cas-results-body\">\n",
       "<div>\n",
       "<style scoped>\n",
       "    .dataframe tbody tr th:only-of-type {\n",
       "        vertical-align: middle;\n",
       "    }\n",
       "\n",
       "    .dataframe tbody tr th {\n",
       "        vertical-align: top;\n",
       "    }\n",
       "\n",
       "    .dataframe thead th {\n",
       "        text-align: right;\n",
       "    }\n",
       "</style>\n",
       "<table border=\"1\" class=\"dataframe\">\n",
       "  <thead>\n",
       "    <tr style=\"text-align: right;\">\n",
       "      <th title=\"\"></th>\n",
       "      <th title=\"CAS Library\">casLib</th>\n",
       "      <th title=\"Name\">Name</th>\n",
       "      <th title=\"Number of Rows\">Rows</th>\n",
       "      <th title=\"Number of Columns\">Columns</th>\n",
       "      <th title=\"Table\">casTable</th>\n",
       "    </tr>\n",
       "  </thead>\n",
       "  <tbody>\n",
       "    <tr>\n",
       "      <th>0</th>\n",
       "      <td>CASUSER(frajoz)</td>\n",
       "      <td>JOIN_CLUBS_HOME</td>\n",
       "      <td>980510</td>\n",
       "      <td>63</td>\n",
       "      <td>CASTable('JOIN_CLUBS_HOME', caslib='CASUSER(frajoz)')</td>\n",
       "    </tr>\n",
       "    <tr>\n",
       "      <th>1</th>\n",
       "      <td>CASUSER(frajoz)</td>\n",
       "      <td>AWAY_CLUB</td>\n",
       "      <td>379</td>\n",
       "      <td>15</td>\n",
       "      <td>CASTable('AWAY_CLUB', caslib='CASUSER(frajoz)')</td>\n",
       "    </tr>\n",
       "  </tbody>\n",
       "</table>\n",
       "</div>\n",
       "</div>\n",
       "<div class=\"cas-results-key\"><hr/><b>&#167; OutputCasTables</b></div>\n",
       "<div class=\"cas-results-body\">\n",
       "<div>\n",
       "<style scoped>\n",
       "    .dataframe tbody tr th:only-of-type {\n",
       "        vertical-align: middle;\n",
       "    }\n",
       "\n",
       "    .dataframe tbody tr th {\n",
       "        vertical-align: top;\n",
       "    }\n",
       "\n",
       "    .dataframe thead th {\n",
       "        text-align: right;\n",
       "    }\n",
       "</style>\n",
       "<table border=\"1\" class=\"dataframe\">\n",
       "  <thead>\n",
       "    <tr style=\"text-align: right;\">\n",
       "      <th title=\"\"></th>\n",
       "      <th title=\"CAS Library\">casLib</th>\n",
       "      <th title=\"Name\">Name</th>\n",
       "      <th title=\"Number of Rows\">Rows</th>\n",
       "      <th title=\"Number of Columns\">Columns</th>\n",
       "      <th title=\"Number of Rows Appended\">Append</th>\n",
       "      <th title=\"Promoted\">Promoted</th>\n",
       "      <th title=\"Table\">casTable</th>\n",
       "    </tr>\n",
       "  </thead>\n",
       "  <tbody>\n",
       "    <tr>\n",
       "      <th>0</th>\n",
       "      <td>CASUSER(frajoz)</td>\n",
       "      <td>JOIN_CLUBS_FULL</td>\n",
       "      <td>980510</td>\n",
       "      <td>77</td>\n",
       "      <td>NaN</td>\n",
       "      <td>N</td>\n",
       "      <td>CASTable('JOIN_CLUBS_FULL', caslib='CASUSER(frajoz)')</td>\n",
       "    </tr>\n",
       "  </tbody>\n",
       "</table>\n",
       "</div>\n",
       "</div>\n",
       "<div class=\"cas-output-area\"></div>\n",
       "<p class=\"cas-results-performance\"><small><span class=\"cas-elapsed\">elapsed 4.04s</span> &#183; <span class=\"cas-user\">user 12.1s</span> &#183; <span class=\"cas-sys\">sys 3s</span> &#183; <span class=\"cas-memory\">mem 101MB</span></small></p>"
      ],
      "text/plain": [
       "[InputCasTables]\n",
       "\n",
       "             casLib             Name    Rows  Columns  \\\n",
       " 0  CASUSER(frajoz)  JOIN_CLUBS_HOME  980510       63   \n",
       " 1  CASUSER(frajoz)        AWAY_CLUB     379       15   \n",
       " \n",
       "                                                 casTable  \n",
       " 0  CASTable('JOIN_CLUBS_HOME', caslib='CASUSER(frajoz)')  \n",
       " 1        CASTable('AWAY_CLUB', caslib='CASUSER(frajoz)')  \n",
       "\n",
       "[OutputCasTables]\n",
       "\n",
       "             casLib             Name    Rows  Columns  Append Promoted  \\\n",
       " 0  CASUSER(frajoz)  JOIN_CLUBS_FULL  980510       77     NaN        N   \n",
       " \n",
       "                                                 casTable  \n",
       " 0  CASTable('JOIN_CLUBS_FULL', caslib='CASUSER(frajoz)')  \n",
       "\n",
       "+ Elapsed: 4.04s, user: 12.1s, sys: 3s, mem: 101mb"
      ]
     },
     "execution_count": 15,
     "metadata": {},
     "output_type": "execute_result"
    }
   ],
   "source": [
    "s.datastep.runcode('data JOIN_GAME_PLAYER1;merge JOIN_GAME_PLAYER(in=in1) CURRENT_CLUB; by current_club_id;if in1;run;')\n",
    "\n",
    "s.datastep.runcode('data JOIN_CLUBS_HOME;merge JOIN_GAME_PLAYER1(in=in1) HOME_CLUB; by home_club_id;if in1;run;')\n",
    "s.datastep.runcode('data JOIN_CLUBS_FULL;merge JOIN_CLUBS_HOME(in=in1) AWAY_CLUB; by away_club_id;if in1;run;')"
   ]
  },
  {
   "cell_type": "code",
   "execution_count": 23,
   "metadata": {},
   "outputs": [
    {
     "data": {
      "text/html": [
       "<div class=\"cas-results-key\"><b>&#167; InputCasTables</b></div>\n",
       "<div class=\"cas-results-body\">\n",
       "<div>\n",
       "<style scoped>\n",
       "    .dataframe tbody tr th:only-of-type {\n",
       "        vertical-align: middle;\n",
       "    }\n",
       "\n",
       "    .dataframe tbody tr th {\n",
       "        vertical-align: top;\n",
       "    }\n",
       "\n",
       "    .dataframe thead th {\n",
       "        text-align: right;\n",
       "    }\n",
       "</style>\n",
       "<table border=\"1\" class=\"dataframe\">\n",
       "  <thead>\n",
       "    <tr style=\"text-align: right;\">\n",
       "      <th title=\"\"></th>\n",
       "      <th title=\"CAS Library\">casLib</th>\n",
       "      <th title=\"Name\">Name</th>\n",
       "      <th title=\"Number of Rows\">Rows</th>\n",
       "      <th title=\"Number of Columns\">Columns</th>\n",
       "      <th title=\"Table\">casTable</th>\n",
       "    </tr>\n",
       "  </thead>\n",
       "  <tbody>\n",
       "    <tr>\n",
       "      <th>0</th>\n",
       "      <td>CASUSER(frajoz)</td>\n",
       "      <td>JOIN_CLUBS_FULL</td>\n",
       "      <td>980510</td>\n",
       "      <td>77</td>\n",
       "      <td>CASTable('JOIN_CLUBS_FULL', caslib='CASUSER(frajoz)')</td>\n",
       "    </tr>\n",
       "    <tr>\n",
       "      <th>1</th>\n",
       "      <td>CASUSER(frajoz)</td>\n",
       "      <td>COMPETITIONS</td>\n",
       "      <td>42</td>\n",
       "      <td>8</td>\n",
       "      <td>CASTable('COMPETITIONS', caslib='CASUSER(frajoz)')</td>\n",
       "    </tr>\n",
       "  </tbody>\n",
       "</table>\n",
       "</div>\n",
       "</div>\n",
       "<div class=\"cas-results-key\"><hr/><b>&#167; OutputCasTables</b></div>\n",
       "<div class=\"cas-results-body\">\n",
       "<div>\n",
       "<style scoped>\n",
       "    .dataframe tbody tr th:only-of-type {\n",
       "        vertical-align: middle;\n",
       "    }\n",
       "\n",
       "    .dataframe tbody tr th {\n",
       "        vertical-align: top;\n",
       "    }\n",
       "\n",
       "    .dataframe thead th {\n",
       "        text-align: right;\n",
       "    }\n",
       "</style>\n",
       "<table border=\"1\" class=\"dataframe\">\n",
       "  <thead>\n",
       "    <tr style=\"text-align: right;\">\n",
       "      <th title=\"\"></th>\n",
       "      <th title=\"CAS Library\">casLib</th>\n",
       "      <th title=\"Name\">Name</th>\n",
       "      <th title=\"Number of Rows\">Rows</th>\n",
       "      <th title=\"Number of Columns\">Columns</th>\n",
       "      <th title=\"Number of Rows Appended\">Append</th>\n",
       "      <th title=\"Promoted\">Promoted</th>\n",
       "      <th title=\"Table\">casTable</th>\n",
       "    </tr>\n",
       "  </thead>\n",
       "  <tbody>\n",
       "    <tr>\n",
       "      <th>0</th>\n",
       "      <td>Public</td>\n",
       "      <td>TRANSFERMARKT_DATA</td>\n",
       "      <td>980510</td>\n",
       "      <td>83</td>\n",
       "      <td>NaN</td>\n",
       "      <td>N</td>\n",
       "      <td>CASTable('TRANSFERMARKT_DATA', caslib='Public')</td>\n",
       "    </tr>\n",
       "  </tbody>\n",
       "</table>\n",
       "</div>\n",
       "</div>\n",
       "<div class=\"cas-output-area\"></div>\n",
       "<p class=\"cas-results-performance\"><small><span class=\"cas-elapsed\">elapsed 30.2s</span> &#183; <span class=\"cas-user\">user 145s</span> &#183; <span class=\"cas-sys\">sys 17s</span> &#183; <span class=\"cas-memory\">mem 98.6MB</span></small></p>"
      ],
      "text/plain": [
       "[InputCasTables]\n",
       "\n",
       "             casLib             Name    Rows  Columns  \\\n",
       " 0  CASUSER(frajoz)  JOIN_CLUBS_FULL  980510       77   \n",
       " 1  CASUSER(frajoz)     COMPETITIONS      42        8   \n",
       " \n",
       "                                                 casTable  \n",
       " 0  CASTable('JOIN_CLUBS_FULL', caslib='CASUSER(frajoz)')  \n",
       " 1     CASTable('COMPETITIONS', caslib='CASUSER(frajoz)')  \n",
       "\n",
       "[OutputCasTables]\n",
       "\n",
       "    casLib                Name    Rows  Columns  Append Promoted  \\\n",
       " 0  Public  TRANSFERMARKT_DATA  980510       83     NaN        N   \n",
       " \n",
       "                                           casTable  \n",
       " 0  CASTable('TRANSFERMARKT_DATA', caslib='Public')  \n",
       "\n",
       "+ Elapsed: 30.2s, user: 145s, sys: 17s, mem: 98.6mb"
      ]
     },
     "execution_count": 23,
     "metadata": {},
     "output_type": "execute_result"
    }
   ],
   "source": [
    "s.datastep.runcode('data PUBLIC.TRANSFERMARKT_DATA;merge JOIN_CLUBS_FULL(in=in1) COMPETITIONS(rename=(name=competition_name country_name=comp_country_name)); by competition_id;if in1;run;')"
   ]
  },
  {
   "cell_type": "code",
   "execution_count": 18,
   "metadata": {},
   "outputs": [
    {
     "name": "stdout",
     "output_type": "stream",
     "text": [
      "NOTE: Cloud Analytic Services promoted table TRANSFERMARKT_DATA in caslib CASUSER(frajoz) to table TRANSFERMARKT_DATA in caslib Public.\n"
     ]
    },
    {
     "data": {
      "text/html": [
       "<div class=\"cas-output-area\"></div>\n",
       "<p class=\"cas-results-performance\"><small><span class=\"cas-elapsed\">elapsed 0.211s</span> &#183; <span class=\"cas-user\">user 0.00459s</span> &#183; <span class=\"cas-sys\">sys 0.205s</span> &#183; <span class=\"cas-memory\">mem 0.321MB</span></small></p>"
      ],
      "text/plain": [
       "+ Elapsed: 0.211s, user: 0.00459s, sys: 0.205s, mem: 0.321mb"
      ]
     },
     "execution_count": 18,
     "metadata": {},
     "output_type": "execute_result"
    }
   ],
   "source": [
    "s.table.promote(table='TRANSFERMARKT_DATA',caslib=\"PUBLIC\",targetLib=\"Public\")\n"
   ]
  },
  {
   "cell_type": "code",
   "execution_count": 26,
   "metadata": {},
   "outputs": [
    {
     "name": "stdout",
     "output_type": "stream",
     "text": [
      "NOTE: Cloud Analytic Services saved the file TRANSFERMARKT_DATA.sashdat in caslib Public.\n"
     ]
    },
    {
     "data": {
      "text/html": [
       "<div class=\"cas-results-key\"><b>&#167; caslib</b></div>\n",
       "<div class=\"cas-results-body\">\n",
       "<div>Public</div>\n",
       "</div>\n",
       "<div class=\"cas-results-key\"><hr/><b>&#167; name</b></div>\n",
       "<div class=\"cas-results-body\">\n",
       "<div>TRANSFERMARKT_DATA.sashdat</div>\n",
       "</div>\n",
       "<div class=\"cas-output-area\"></div>\n",
       "<p class=\"cas-results-performance\"><small><span class=\"cas-elapsed\">elapsed 5.2s</span> &#183; <span class=\"cas-user\">user 0.837s</span> &#183; <span class=\"cas-sys\">sys 2.24s</span> &#183; <span class=\"cas-memory\">mem 16.6MB</span></small></p>"
      ],
      "text/plain": [
       "[caslib]\n",
       "\n",
       " 'Public'\n",
       "\n",
       "[name]\n",
       "\n",
       " 'TRANSFERMARKT_DATA.sashdat'\n",
       "\n",
       "+ Elapsed: 5.2s, user: 0.837s, sys: 2.24s, mem: 16.6mb"
      ]
     },
     "execution_count": 26,
     "metadata": {},
     "output_type": "execute_result"
    }
   ],
   "source": [
    "s.table.save(table={\"name\":\"TRANSFERMARKT_DATA\",\"caslib\":\"PUBLIC\"},caslib=\"PUBLIC\",name=\"TRANSFERMARKT_DATA.sashdat\")"
   ]
  },
  {
   "cell_type": "code",
   "execution_count": 27,
   "metadata": {},
   "outputs": [
    {
     "name": "stdout",
     "output_type": "stream",
     "text": [
      "NOTE: Cloud Analytic Services saved the file JOIN_GAME_PLAYER.sashdat in caslib CASUSER(frajoz).\n"
     ]
    },
    {
     "data": {
      "text/html": [
       "<div class=\"cas-results-key\"><b>&#167; caslib</b></div>\n",
       "<div class=\"cas-results-body\">\n",
       "<div>CASUSER(frajoz)</div>\n",
       "</div>\n",
       "<div class=\"cas-results-key\"><hr/><b>&#167; name</b></div>\n",
       "<div class=\"cas-results-body\">\n",
       "<div>JOIN_GAME_PLAYER.sashdat</div>\n",
       "</div>\n",
       "<div class=\"cas-output-area\"></div>\n",
       "<p class=\"cas-results-performance\"><small><span class=\"cas-elapsed\">elapsed 1.33s</span> &#183; <span class=\"cas-user\">user 0.287s</span> &#183; <span class=\"cas-sys\">sys 0.383s</span> &#183; <span class=\"cas-memory\">mem 16.6MB</span></small></p>"
      ],
      "text/plain": [
       "[caslib]\n",
       "\n",
       " 'CASUSER(frajoz)'\n",
       "\n",
       "[name]\n",
       "\n",
       " 'JOIN_GAME_PLAYER.sashdat'\n",
       "\n",
       "+ Elapsed: 1.33s, user: 0.287s, sys: 0.383s, mem: 16.6mb"
      ]
     },
     "execution_count": 27,
     "metadata": {},
     "output_type": "execute_result"
    }
   ],
   "source": [
    "s.table.save(table={\"name\":\"JOIN_GAME_PLAYER\",\"caslib\":\"CASUSER\"},caslib=\"CASUSER\",name=\"JOIN_GAME_PLAYER.sashdat\")"
   ]
  },
  {
   "cell_type": "code",
   "execution_count": null,
   "metadata": {},
   "outputs": [],
   "source": []
  }
 ],
 "metadata": {
  "kernelspec": {
   "display_name": "Python 3",
   "language": "python",
   "name": "python3"
  },
  "language_info": {
   "codemirror_mode": {
    "name": "ipython",
    "version": 3
   },
   "file_extension": ".py",
   "mimetype": "text/x-python",
   "name": "python",
   "nbconvert_exporter": "python",
   "pygments_lexer": "ipython3",
   "version": "3.7.6"
  }
 },
 "nbformat": 4,
 "nbformat_minor": 4
}
